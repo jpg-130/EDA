{
 "cells": [
  {
   "cell_type": "markdown",
   "metadata": {},
   "source": [
    "# [Naive Bayes Classifier](https://en.wikipedia.org/wiki/Naive_Bayes_classifier)"
   ]
  },
  {
   "cell_type": "markdown",
   "metadata": {},
   "source": [
    "## Importing Libraries"
   ]
  },
  {
   "cell_type": "code",
   "execution_count": 1,
   "metadata": {},
   "outputs": [],
   "source": [
    "# import the required libraries\n",
    "import pandas as pd\n",
    "import numpy as np\n",
    "import matplotlib.pyplot as plt\n",
    "\n",
    "%matplotlib inline\n",
    "\n",
    "# do not display warnings in notebook \n",
    "import warnings\n",
    "warnings.filterwarnings('ignore')"
   ]
  },
  {
   "cell_type": "markdown",
   "metadata": {},
   "source": [
    "## Import dataset"
   ]
  },
  {
   "cell_type": "code",
   "execution_count": 2,
   "metadata": {},
   "outputs": [],
   "source": [
    "from sklearn import datasets\n",
    "\n",
    "dataset = datasets.load_iris()\n",
    "data=pd.DataFrame(dataset.data)\n",
    "target=pd.DataFrame(dataset.target)"
   ]
  },
  {
   "cell_type": "markdown",
   "metadata": {},
   "source": [
    "Find out the number of classes and data columns"
   ]
  },
  {
   "cell_type": "code",
   "execution_count": 3,
   "metadata": {},
   "outputs": [
    {
     "name": "stdout",
     "output_type": "stream",
     "text": [
      "[0 1 2]\n",
      "4\n"
     ]
    }
   ],
   "source": [
    "classes=target[0].unique()\n",
    "print(classes)\n",
    "print(len(data.columns))"
   ]
  },
  {
   "cell_type": "markdown",
   "metadata": {},
   "source": [
    "Convert the data into numpy array. (can be done without it)"
   ]
  },
  {
   "cell_type": "code",
   "execution_count": 4,
   "metadata": {},
   "outputs": [
    {
     "name": "stdout",
     "output_type": "stream",
     "text": [
      "[[5.1 3.5 1.4 0.2]\n",
      " [4.9 3.  1.4 0.2]\n",
      " [4.7 3.2 1.3 0.2]\n",
      " [4.6 3.1 1.5 0.2]\n",
      " [5.  3.6 1.4 0.2]\n",
      " [5.4 3.9 1.7 0.4]\n",
      " [4.6 3.4 1.4 0.3]\n",
      " [5.  3.4 1.5 0.2]\n",
      " [4.4 2.9 1.4 0.2]\n",
      " [4.9 3.1 1.5 0.1]\n",
      " [5.4 3.7 1.5 0.2]\n",
      " [4.8 3.4 1.6 0.2]\n",
      " [4.8 3.  1.4 0.1]\n",
      " [4.3 3.  1.1 0.1]\n",
      " [5.8 4.  1.2 0.2]\n",
      " [5.7 4.4 1.5 0.4]\n",
      " [5.4 3.9 1.3 0.4]\n",
      " [5.1 3.5 1.4 0.3]\n",
      " [5.7 3.8 1.7 0.3]\n",
      " [5.1 3.8 1.5 0.3]\n",
      " [5.4 3.4 1.7 0.2]\n",
      " [5.1 3.7 1.5 0.4]\n",
      " [4.6 3.6 1.  0.2]\n",
      " [5.1 3.3 1.7 0.5]\n",
      " [4.8 3.4 1.9 0.2]\n",
      " [5.  3.  1.6 0.2]\n",
      " [5.  3.4 1.6 0.4]\n",
      " [5.2 3.5 1.5 0.2]\n",
      " [5.2 3.4 1.4 0.2]\n",
      " [4.7 3.2 1.6 0.2]\n",
      " [4.8 3.1 1.6 0.2]\n",
      " [5.4 3.4 1.5 0.4]\n",
      " [5.2 4.1 1.5 0.1]\n",
      " [5.5 4.2 1.4 0.2]\n",
      " [4.9 3.1 1.5 0.2]\n",
      " [5.  3.2 1.2 0.2]\n",
      " [5.5 3.5 1.3 0.2]\n",
      " [4.9 3.6 1.4 0.1]\n",
      " [4.4 3.  1.3 0.2]\n",
      " [5.1 3.4 1.5 0.2]\n",
      " [5.  3.5 1.3 0.3]\n",
      " [4.5 2.3 1.3 0.3]\n",
      " [4.4 3.2 1.3 0.2]\n",
      " [5.  3.5 1.6 0.6]\n",
      " [5.1 3.8 1.9 0.4]\n",
      " [4.8 3.  1.4 0.3]\n",
      " [5.1 3.8 1.6 0.2]\n",
      " [4.6 3.2 1.4 0.2]\n",
      " [5.3 3.7 1.5 0.2]\n",
      " [5.  3.3 1.4 0.2]\n",
      " [7.  3.2 4.7 1.4]\n",
      " [6.4 3.2 4.5 1.5]\n",
      " [6.9 3.1 4.9 1.5]\n",
      " [5.5 2.3 4.  1.3]\n",
      " [6.5 2.8 4.6 1.5]\n",
      " [5.7 2.8 4.5 1.3]\n",
      " [6.3 3.3 4.7 1.6]\n",
      " [4.9 2.4 3.3 1. ]\n",
      " [6.6 2.9 4.6 1.3]\n",
      " [5.2 2.7 3.9 1.4]\n",
      " [5.  2.  3.5 1. ]\n",
      " [5.9 3.  4.2 1.5]\n",
      " [6.  2.2 4.  1. ]\n",
      " [6.1 2.9 4.7 1.4]\n",
      " [5.6 2.9 3.6 1.3]\n",
      " [6.7 3.1 4.4 1.4]\n",
      " [5.6 3.  4.5 1.5]\n",
      " [5.8 2.7 4.1 1. ]\n",
      " [6.2 2.2 4.5 1.5]\n",
      " [5.6 2.5 3.9 1.1]\n",
      " [5.9 3.2 4.8 1.8]\n",
      " [6.1 2.8 4.  1.3]\n",
      " [6.3 2.5 4.9 1.5]\n",
      " [6.1 2.8 4.7 1.2]\n",
      " [6.4 2.9 4.3 1.3]\n",
      " [6.6 3.  4.4 1.4]\n",
      " [6.8 2.8 4.8 1.4]\n",
      " [6.7 3.  5.  1.7]\n",
      " [6.  2.9 4.5 1.5]\n",
      " [5.7 2.6 3.5 1. ]\n",
      " [5.5 2.4 3.8 1.1]\n",
      " [5.5 2.4 3.7 1. ]\n",
      " [5.8 2.7 3.9 1.2]\n",
      " [6.  2.7 5.1 1.6]\n",
      " [5.4 3.  4.5 1.5]\n",
      " [6.  3.4 4.5 1.6]\n",
      " [6.7 3.1 4.7 1.5]\n",
      " [6.3 2.3 4.4 1.3]\n",
      " [5.6 3.  4.1 1.3]\n",
      " [5.5 2.5 4.  1.3]\n",
      " [5.5 2.6 4.4 1.2]\n",
      " [6.1 3.  4.6 1.4]\n",
      " [5.8 2.6 4.  1.2]\n",
      " [5.  2.3 3.3 1. ]\n",
      " [5.6 2.7 4.2 1.3]\n",
      " [5.7 3.  4.2 1.2]\n",
      " [5.7 2.9 4.2 1.3]\n",
      " [6.2 2.9 4.3 1.3]\n",
      " [5.1 2.5 3.  1.1]\n",
      " [5.7 2.8 4.1 1.3]\n",
      " [6.3 3.3 6.  2.5]\n",
      " [5.8 2.7 5.1 1.9]\n",
      " [7.1 3.  5.9 2.1]\n",
      " [6.3 2.9 5.6 1.8]\n",
      " [6.5 3.  5.8 2.2]\n",
      " [7.6 3.  6.6 2.1]\n",
      " [4.9 2.5 4.5 1.7]\n",
      " [7.3 2.9 6.3 1.8]\n",
      " [6.7 2.5 5.8 1.8]\n",
      " [7.2 3.6 6.1 2.5]\n",
      " [6.5 3.2 5.1 2. ]\n",
      " [6.4 2.7 5.3 1.9]\n",
      " [6.8 3.  5.5 2.1]\n",
      " [5.7 2.5 5.  2. ]\n",
      " [5.8 2.8 5.1 2.4]\n",
      " [6.4 3.2 5.3 2.3]\n",
      " [6.5 3.  5.5 1.8]\n",
      " [7.7 3.8 6.7 2.2]\n",
      " [7.7 2.6 6.9 2.3]\n",
      " [6.  2.2 5.  1.5]\n",
      " [6.9 3.2 5.7 2.3]\n",
      " [5.6 2.8 4.9 2. ]\n",
      " [7.7 2.8 6.7 2. ]\n",
      " [6.3 2.7 4.9 1.8]\n",
      " [6.7 3.3 5.7 2.1]\n",
      " [7.2 3.2 6.  1.8]\n",
      " [6.2 2.8 4.8 1.8]\n",
      " [6.1 3.  4.9 1.8]\n",
      " [6.4 2.8 5.6 2.1]\n",
      " [7.2 3.  5.8 1.6]\n",
      " [7.4 2.8 6.1 1.9]\n",
      " [7.9 3.8 6.4 2. ]\n",
      " [6.4 2.8 5.6 2.2]\n",
      " [6.3 2.8 5.1 1.5]\n",
      " [6.1 2.6 5.6 1.4]\n",
      " [7.7 3.  6.1 2.3]\n",
      " [6.3 3.4 5.6 2.4]\n",
      " [6.4 3.1 5.5 1.8]\n",
      " [6.  3.  4.8 1.8]\n",
      " [6.9 3.1 5.4 2.1]\n",
      " [6.7 3.1 5.6 2.4]\n",
      " [6.9 3.1 5.1 2.3]\n",
      " [5.8 2.7 5.1 1.9]\n",
      " [6.8 3.2 5.9 2.3]\n",
      " [6.7 3.3 5.7 2.5]\n",
      " [6.7 3.  5.2 2.3]\n",
      " [6.3 2.5 5.  1.9]\n",
      " [6.5 3.  5.2 2. ]\n",
      " [6.2 3.4 5.4 2.3]\n",
      " [5.9 3.  5.1 1.8]]\n"
     ]
    }
   ],
   "source": [
    "np_data=np.array(data)\n",
    "print(np_data)"
   ]
  },
  {
   "cell_type": "markdown",
   "metadata": {},
   "source": [
    "Rounding up the values of the data."
   ]
  },
  {
   "cell_type": "code",
   "execution_count": 5,
   "metadata": {},
   "outputs": [
    {
     "name": "stdout",
     "output_type": "stream",
     "text": [
      "[[5. 4. 1. 0.]\n",
      " [5. 3. 1. 0.]\n",
      " [5. 3. 1. 0.]\n",
      " [5. 3. 2. 0.]\n",
      " [5. 4. 1. 0.]\n",
      " [5. 4. 2. 0.]\n",
      " [5. 3. 1. 0.]\n",
      " [5. 3. 2. 0.]\n",
      " [4. 3. 1. 0.]\n",
      " [5. 3. 2. 0.]\n",
      " [5. 4. 2. 0.]\n",
      " [5. 3. 2. 0.]\n",
      " [5. 3. 1. 0.]\n",
      " [4. 3. 1. 0.]\n",
      " [6. 4. 1. 0.]\n",
      " [6. 4. 2. 0.]\n",
      " [5. 4. 1. 0.]\n",
      " [5. 4. 1. 0.]\n",
      " [6. 4. 2. 0.]\n",
      " [5. 4. 2. 0.]\n",
      " [5. 3. 2. 0.]\n",
      " [5. 4. 2. 0.]\n",
      " [5. 4. 1. 0.]\n",
      " [5. 3. 2. 0.]\n",
      " [5. 3. 2. 0.]\n",
      " [5. 3. 2. 0.]\n",
      " [5. 3. 2. 0.]\n",
      " [5. 4. 2. 0.]\n",
      " [5. 3. 1. 0.]\n",
      " [5. 3. 2. 0.]\n",
      " [5. 3. 2. 0.]\n",
      " [5. 3. 2. 0.]\n",
      " [5. 4. 2. 0.]\n",
      " [6. 4. 1. 0.]\n",
      " [5. 3. 2. 0.]\n",
      " [5. 3. 1. 0.]\n",
      " [6. 4. 1. 0.]\n",
      " [5. 4. 1. 0.]\n",
      " [4. 3. 1. 0.]\n",
      " [5. 3. 2. 0.]\n",
      " [5. 4. 1. 0.]\n",
      " [4. 2. 1. 0.]\n",
      " [4. 3. 1. 0.]\n",
      " [5. 4. 2. 1.]\n",
      " [5. 4. 2. 0.]\n",
      " [5. 3. 1. 0.]\n",
      " [5. 4. 2. 0.]\n",
      " [5. 3. 1. 0.]\n",
      " [5. 4. 2. 0.]\n",
      " [5. 3. 1. 0.]\n",
      " [7. 3. 5. 1.]\n",
      " [6. 3. 4. 2.]\n",
      " [7. 3. 5. 2.]\n",
      " [6. 2. 4. 1.]\n",
      " [6. 3. 5. 2.]\n",
      " [6. 3. 4. 1.]\n",
      " [6. 3. 5. 2.]\n",
      " [5. 2. 3. 1.]\n",
      " [7. 3. 5. 1.]\n",
      " [5. 3. 4. 1.]\n",
      " [5. 2. 4. 1.]\n",
      " [6. 3. 4. 2.]\n",
      " [6. 2. 4. 1.]\n",
      " [6. 3. 5. 1.]\n",
      " [6. 3. 4. 1.]\n",
      " [7. 3. 4. 1.]\n",
      " [6. 3. 4. 2.]\n",
      " [6. 3. 4. 1.]\n",
      " [6. 2. 4. 2.]\n",
      " [6. 2. 4. 1.]\n",
      " [6. 3. 5. 2.]\n",
      " [6. 3. 4. 1.]\n",
      " [6. 2. 5. 2.]\n",
      " [6. 3. 5. 1.]\n",
      " [6. 3. 4. 1.]\n",
      " [7. 3. 4. 1.]\n",
      " [7. 3. 5. 1.]\n",
      " [7. 3. 5. 2.]\n",
      " [6. 3. 4. 2.]\n",
      " [6. 3. 4. 1.]\n",
      " [6. 2. 4. 1.]\n",
      " [6. 2. 4. 1.]\n",
      " [6. 3. 4. 1.]\n",
      " [6. 3. 5. 2.]\n",
      " [5. 3. 4. 2.]\n",
      " [6. 3. 4. 2.]\n",
      " [7. 3. 5. 2.]\n",
      " [6. 2. 4. 1.]\n",
      " [6. 3. 4. 1.]\n",
      " [6. 2. 4. 1.]\n",
      " [6. 3. 4. 1.]\n",
      " [6. 3. 5. 1.]\n",
      " [6. 3. 4. 1.]\n",
      " [5. 2. 3. 1.]\n",
      " [6. 3. 4. 1.]\n",
      " [6. 3. 4. 1.]\n",
      " [6. 3. 4. 1.]\n",
      " [6. 3. 4. 1.]\n",
      " [5. 2. 3. 1.]\n",
      " [6. 3. 4. 1.]\n",
      " [6. 3. 6. 2.]\n",
      " [6. 3. 5. 2.]\n",
      " [7. 3. 6. 2.]\n",
      " [6. 3. 6. 2.]\n",
      " [6. 3. 6. 2.]\n",
      " [8. 3. 7. 2.]\n",
      " [5. 2. 4. 2.]\n",
      " [7. 3. 6. 2.]\n",
      " [7. 2. 6. 2.]\n",
      " [7. 4. 6. 2.]\n",
      " [6. 3. 5. 2.]\n",
      " [6. 3. 5. 2.]\n",
      " [7. 3. 6. 2.]\n",
      " [6. 2. 5. 2.]\n",
      " [6. 3. 5. 2.]\n",
      " [6. 3. 5. 2.]\n",
      " [6. 3. 6. 2.]\n",
      " [8. 4. 7. 2.]\n",
      " [8. 3. 7. 2.]\n",
      " [6. 2. 5. 2.]\n",
      " [7. 3. 6. 2.]\n",
      " [6. 3. 5. 2.]\n",
      " [8. 3. 7. 2.]\n",
      " [6. 3. 5. 2.]\n",
      " [7. 3. 6. 2.]\n",
      " [7. 3. 6. 2.]\n",
      " [6. 3. 5. 2.]\n",
      " [6. 3. 5. 2.]\n",
      " [6. 3. 6. 2.]\n",
      " [7. 3. 6. 2.]\n",
      " [7. 3. 6. 2.]\n",
      " [8. 4. 6. 2.]\n",
      " [6. 3. 6. 2.]\n",
      " [6. 3. 5. 2.]\n",
      " [6. 3. 6. 1.]\n",
      " [8. 3. 6. 2.]\n",
      " [6. 3. 6. 2.]\n",
      " [6. 3. 6. 2.]\n",
      " [6. 3. 5. 2.]\n",
      " [7. 3. 5. 2.]\n",
      " [7. 3. 6. 2.]\n",
      " [7. 3. 5. 2.]\n",
      " [6. 3. 5. 2.]\n",
      " [7. 3. 6. 2.]\n",
      " [7. 3. 6. 2.]\n",
      " [7. 3. 5. 2.]\n",
      " [6. 2. 5. 2.]\n",
      " [6. 3. 5. 2.]\n",
      " [6. 3. 5. 2.]\n",
      " [6. 3. 5. 2.]]\n",
      "150\n"
     ]
    }
   ],
   "source": [
    "np_data_re=np_data[:,:].round()\n",
    "print(np_data_re)\n",
    "print(len(np_data_re))"
   ]
  },
  {
   "cell_type": "code",
   "execution_count": 6,
   "metadata": {},
   "outputs": [],
   "source": [
    "count_classes=np.zeros((len(classes),len(data.columns)))\n",
    "#print(count_classes)"
   ]
  },
  {
   "cell_type": "markdown",
   "metadata": {},
   "source": [
    "Count the number of instances present for each class."
   ]
  },
  {
   "cell_type": "code",
   "execution_count": 7,
   "metadata": {},
   "outputs": [
    {
     "name": "stdout",
     "output_type": "stream",
     "text": [
      "0\n",
      "0    50\n",
      "1    50\n",
      "2    50\n",
      "dtype: int64\n"
     ]
    }
   ],
   "source": [
    "count_in_each_class=target.count(axis=1).groupby(target[0]).count()\n",
    "print(count_in_each_class)"
   ]
  },
  {
   "cell_type": "markdown",
   "metadata": {},
   "source": [
    "Input tuple."
   ]
  },
  {
   "cell_type": "code",
   "execution_count": 8,
   "metadata": {},
   "outputs": [],
   "source": [
    "# The input tuple\n",
    "X=[7.0,3.0,6.0,2.0] "
   ]
  },
  {
   "cell_type": "code",
   "execution_count": 9,
   "metadata": {},
   "outputs": [],
   "source": [
    "def naive_bayes(np_data_re,target,classes,count_classes,count_in_each_class,X):\n",
    "    for i in range(np_data_re.shape[1]):#col 0 1 2 3\n",
    "        for j in range(np_data_re.shape[0]):#row 0  to 149(inclused)\n",
    "            for k in range(classes.shape[0]):#classes 0 1 2\n",
    "                if np_data_re[j,i]==X[i]:\n",
    "                    if target[0][j]==classes[k]:\n",
    "                        count_classes[k,i]+=1\n",
    "    p=np.ones((len(classes),np_data_re.shape[1]))\n",
    "    for i in range(len(count_classes)):\n",
    "        for j in range(len(count_classes)):\n",
    "            p[i][j]*=count_classes[i][j]/count_in_each_class[i]\n",
    "    #print(p)\n",
    "    m=[1]*p.shape[0]\n",
    "    for j in range(p.shape[1]):\n",
    "        for i in range(p.shape[0]):\n",
    "            m[i]*=p[i][j]\n",
    "    #         print(j,i)\n",
    "            #print(m)\n",
    "        m[i]/=count_in_each_class[i]\n",
    "    return m"
   ]
  },
  {
   "cell_type": "markdown",
   "metadata": {},
   "source": [
    "Our Prediction"
   ]
  },
  {
   "cell_type": "code",
   "execution_count": 10,
   "metadata": {
    "scrolled": false
   },
   "outputs": [
    {
     "name": "stdout",
     "output_type": "stream",
     "text": [
      "Tuple X belongs to class: 2\n"
     ]
    }
   ],
   "source": [
    "m=naive_bayes(np_data_re,target,classes,count_classes,count_in_each_class,X)\n",
    "print(\"Tuple X belongs to class:\",m.index(max(m[0:])))"
   ]
  },
  {
   "cell_type": "markdown",
   "metadata": {},
   "source": [
    "However naive bayes requires to discretize continuous values as we have done here which is not a very good approach. The above code can be applied to the data that has been carefully discretised."
   ]
  },
  {
   "cell_type": "markdown",
   "metadata": {},
   "source": [
    "Below is the naive bayes implementation using sklearn library."
   ]
  },
  {
   "cell_type": "code",
   "execution_count": 11,
   "metadata": {},
   "outputs": [
    {
     "name": "stdout",
     "output_type": "stream",
     "text": [
      "Tuple X belongs to class: [2]\n"
     ]
    }
   ],
   "source": [
    "#from sklearn import datasets\n",
    "#iris = datasets.load_iris()\n",
    "from sklearn.naive_bayes import GaussianNB\n",
    "gnb = GaussianNB()\n",
    "y_pred = gnb.fit(data, target).predict([X])\n",
    "print(\"Tuple X belongs to class:\",y_pred)"
   ]
  }
 ],
 "metadata": {
  "kernelspec": {
   "display_name": "Python 3",
   "language": "python",
   "name": "python3"
  },
  "language_info": {
   "codemirror_mode": {
    "name": "ipython",
    "version": 3
   },
   "file_extension": ".py",
   "mimetype": "text/x-python",
   "name": "python",
   "nbconvert_exporter": "python",
   "pygments_lexer": "ipython3",
   "version": "3.7.1"
  }
 },
 "nbformat": 4,
 "nbformat_minor": 2
}
